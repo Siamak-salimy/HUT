{
 "cells": [
  {
   "cell_type": "code",
   "execution_count": null,
   "id": "beba9e80",
   "metadata": {},
   "outputs": [],
   "source": [
    "pip install pandas"
   ]
  },
  {
   "cell_type": "code",
   "execution_count": null,
   "id": "3b27529f",
   "metadata": {},
   "outputs": [],
   "source": [
    "import pandas as pd  # 'pd' is the conventional alias for Pandas"
   ]
  },
  {
   "cell_type": "code",
   "execution_count": 6,
   "id": "55b21566",
   "metadata": {},
   "outputs": [
    {
     "name": "stdout",
     "output_type": "stream",
     "text": [
      "      Name  Age         City\n",
      "0    Alice   25     New York\n",
      "1      Bob   30  Los Angeles\n",
      "2  Charlie   35      Chicago\n"
     ]
    }
   ],
   "source": [
    "# Create a DataFrame from a dictionary  - A DataFrame is a 2D table-like structure with rows and columns.\n",
    "data = {\n",
    "    'Name': ['Alice', 'Bob', 'Charlie'],  # Column 'Name'\n",
    "    'Age': [25, 30, 35],                  # Column 'Age'\n",
    "    'City': ['New York', 'Los Angeles', 'Chicago']  # Column 'City'\n",
    "}\n",
    "\n",
    "df = pd.DataFrame(data)  # Convert the dictionary to a DataFrame\n",
    "print(df)  # Display the DataFrame"
   ]
  },
  {
   "cell_type": "code",
   "execution_count": 11,
   "id": "b5f51164",
   "metadata": {},
   "outputs": [
    {
     "name": "stdout",
     "output_type": "stream",
     "text": [
      "  First Name  Gender Start Date Last Login Time  Salary  Bonus %  \\\n",
      "0    Douglas    Male   8/6/1993        12:42 PM   97308    6.945   \n",
      "1     Thomas    Male  3/31/1996         6:53 AM   61933    4.170   \n",
      "2      Maria  Female  4/23/1993        11:17 AM  130590   11.858   \n",
      "3      Jerry    Male   3/4/2005         1:00 PM  138705    9.340   \n",
      "4      Larry    Male  1/24/1998         4:47 PM  101004    1.389   \n",
      "\n",
      "  Senior Management             Team  \n",
      "0              True        Marketing  \n",
      "1              True              NaN  \n",
      "2             False          Finance  \n",
      "3              True          Finance  \n",
      "4              True  Client Services  \n",
      "    First Name  Gender  Start Date Last Login Time  Salary  Bonus %  \\\n",
      "0      Douglas    Male    8/6/1993        12:42 PM   97308    6.945   \n",
      "1       Thomas    Male   3/31/1996         6:53 AM   61933    4.170   \n",
      "2        Maria  Female   4/23/1993        11:17 AM  130590   11.858   \n",
      "3        Jerry    Male    3/4/2005         1:00 PM  138705    9.340   \n",
      "4        Larry    Male   1/24/1998         4:47 PM  101004    1.389   \n",
      "..         ...     ...         ...             ...     ...      ...   \n",
      "995      Henry     NaN  11/23/2014         6:09 AM  132483   16.655   \n",
      "996    Phillip    Male   1/31/1984         6:30 AM   42392   19.675   \n",
      "997    Russell    Male   5/20/2013        12:39 PM   96914    1.421   \n",
      "998      Larry    Male   4/20/2013         4:45 PM   60500   11.985   \n",
      "999     Albert    Male   5/15/2012         6:24 PM  129949   10.169   \n",
      "\n",
      "    Senior Management                  Team  \n",
      "0                True             Marketing  \n",
      "1                True                   NaN  \n",
      "2               False               Finance  \n",
      "3                True               Finance  \n",
      "4                True       Client Services  \n",
      "..                ...                   ...  \n",
      "995             False          Distribution  \n",
      "996             False               Finance  \n",
      "997             False               Product  \n",
      "998             False  Business Development  \n",
      "999              True                 Sales  \n",
      "\n",
      "[1000 rows x 8 columns]\n"
     ]
    }
   ],
   "source": [
    "# Read a CSV file into a DataFrame\n",
    "df = pd.read_csv('F:\\\\Projects\\\\HUT\\\\data.csv')  # Replace 'data.csv' with your file path\n",
    "\n",
    "# Display the first 5 rows of the DataFrame\n",
    "print(df.head())\n",
    "\n",
    "print(df)"
   ]
  },
  {
   "cell_type": "code",
   "execution_count": 12,
   "id": "d4048d4f",
   "metadata": {},
   "outputs": [
    {
     "name": "stdout",
     "output_type": "stream",
     "text": [
      "  First Name  Gender Start Date Last Login Time  Salary  Bonus %  \\\n",
      "0    Douglas    Male   8/6/1993        12:42 PM   97308    6.945   \n",
      "1     Thomas    Male  3/31/1996         6:53 AM   61933    4.170   \n",
      "2      Maria  Female  4/23/1993        11:17 AM  130590   11.858   \n",
      "3      Jerry    Male   3/4/2005         1:00 PM  138705    9.340   \n",
      "4      Larry    Male  1/24/1998         4:47 PM  101004    1.389   \n",
      "\n",
      "  Senior Management             Team  \n",
      "0              True        Marketing  \n",
      "1              True              NaN  \n",
      "2             False          Finance  \n",
      "3              True          Finance  \n",
      "4              True  Client Services  \n",
      "    First Name Gender  Start Date Last Login Time  Salary  Bonus %  \\\n",
      "995      Henry    NaN  11/23/2014         6:09 AM  132483   16.655   \n",
      "996    Phillip   Male   1/31/1984         6:30 AM   42392   19.675   \n",
      "997    Russell   Male   5/20/2013        12:39 PM   96914    1.421   \n",
      "998      Larry   Male   4/20/2013         4:45 PM   60500   11.985   \n",
      "999     Albert   Male   5/15/2012         6:24 PM  129949   10.169   \n",
      "\n",
      "    Senior Management                  Team  \n",
      "995             False          Distribution  \n",
      "996             False               Finance  \n",
      "997             False               Product  \n",
      "998             False  Business Development  \n",
      "999              True                 Sales  \n",
      "<class 'pandas.core.frame.DataFrame'>\n",
      "RangeIndex: 1000 entries, 0 to 999\n",
      "Data columns (total 8 columns):\n",
      " #   Column             Non-Null Count  Dtype  \n",
      "---  ------             --------------  -----  \n",
      " 0   First Name         933 non-null    object \n",
      " 1   Gender             855 non-null    object \n",
      " 2   Start Date         1000 non-null   object \n",
      " 3   Last Login Time    1000 non-null   object \n",
      " 4   Salary             1000 non-null   int64  \n",
      " 5   Bonus %            1000 non-null   float64\n",
      " 6   Senior Management  933 non-null    object \n",
      " 7   Team               957 non-null    object \n",
      "dtypes: float64(1), int64(1), object(6)\n",
      "memory usage: 62.6+ KB\n",
      "None\n",
      "              Salary      Bonus %\n",
      "count    1000.000000  1000.000000\n",
      "mean    90662.181000    10.207555\n",
      "std     32923.693342     5.528481\n",
      "min     35013.000000     1.015000\n",
      "25%     62613.000000     5.401750\n",
      "50%     90428.000000     9.838500\n",
      "75%    118740.250000    14.838000\n",
      "max    149908.000000    19.944000\n"
     ]
    }
   ],
   "source": [
    "# Display the first 5 rows\n",
    "print(df.head())\n",
    "\n",
    "# Display the last 5 rows\n",
    "print(df.tail())\n",
    "\n",
    "# Get basic information about the DataFrame (columns, data types, non-null values)\n",
    "print(df.info())\n",
    "\n",
    "# Get summary statistics for numerical columns\n",
    "print(df.describe())"
   ]
  },
  {
   "cell_type": "code",
   "execution_count": 14,
   "id": "a7b62829",
   "metadata": {},
   "outputs": [
    {
     "name": "stdout",
     "output_type": "stream",
     "text": [
      "0      Douglas\n",
      "1       Thomas\n",
      "2        Maria\n",
      "3        Jerry\n",
      "4        Larry\n",
      "        ...   \n",
      "995      Henry\n",
      "996    Phillip\n",
      "997    Russell\n",
      "998      Larry\n",
      "999     Albert\n",
      "Name: First Name, Length: 1000, dtype: object\n",
      "    First Name  Gender\n",
      "0      Douglas    Male\n",
      "1       Thomas    Male\n",
      "2        Maria  Female\n",
      "3        Jerry    Male\n",
      "4        Larry    Male\n",
      "..         ...     ...\n",
      "995      Henry     NaN\n",
      "996    Phillip    Male\n",
      "997    Russell    Male\n",
      "998      Larry    Male\n",
      "999     Albert    Male\n",
      "\n",
      "[1000 rows x 2 columns]\n",
      "First Name             Douglas\n",
      "Gender                    Male\n",
      "Start Date            8/6/1993\n",
      "Last Login Time       12:42 PM\n",
      "Salary                   97308\n",
      "Bonus %                  6.945\n",
      "Senior Management         True\n",
      "Team                 Marketing\n",
      "Name: 0, dtype: object\n",
      "  First Name  Gender Start Date Last Login Time  Salary  Bonus %  \\\n",
      "1     Thomas    Male  3/31/1996         6:53 AM   61933    4.170   \n",
      "2      Maria  Female  4/23/1993        11:17 AM  130590   11.858   \n",
      "\n",
      "  Senior Management     Team  \n",
      "1              True      NaN  \n",
      "2             False  Finance  \n",
      "    First Name  Gender  Start Date Last Login Time  Salary  Bonus %  \\\n",
      "0      Douglas    Male    8/6/1993        12:42 PM   97308    6.945   \n",
      "1       Thomas    Male   3/31/1996         6:53 AM   61933    4.170   \n",
      "2        Maria  Female   4/23/1993        11:17 AM  130590   11.858   \n",
      "3        Jerry    Male    3/4/2005         1:00 PM  138705    9.340   \n",
      "4        Larry    Male   1/24/1998         4:47 PM  101004    1.389   \n",
      "..         ...     ...         ...             ...     ...      ...   \n",
      "995      Henry     NaN  11/23/2014         6:09 AM  132483   16.655   \n",
      "996    Phillip    Male   1/31/1984         6:30 AM   42392   19.675   \n",
      "997    Russell    Male   5/20/2013        12:39 PM   96914    1.421   \n",
      "998      Larry    Male   4/20/2013         4:45 PM   60500   11.985   \n",
      "999     Albert    Male   5/15/2012         6:24 PM  129949   10.169   \n",
      "\n",
      "    Senior Management                  Team  \n",
      "0                True             Marketing  \n",
      "1                True                   NaN  \n",
      "2               False               Finance  \n",
      "3                True               Finance  \n",
      "4                True       Client Services  \n",
      "..                ...                   ...  \n",
      "995             False          Distribution  \n",
      "996             False               Finance  \n",
      "997             False               Product  \n",
      "998             False  Business Development  \n",
      "999              True                 Sales  \n",
      "\n",
      "[1000 rows x 8 columns]\n"
     ]
    }
   ],
   "source": [
    "# Select a single column\n",
    "print(df['First Name'])  # Returns a Series\n",
    "\n",
    "# Select multiple columns\n",
    "print(df[['First Name', 'Gender']])  # Returns a DataFrame\n",
    "\n",
    "# Select rows by index\n",
    "print(df.iloc[0])  # First row\n",
    "print(df.iloc[1:3])  # Rows 1 and 2\n",
    "\n",
    "# Select rows by condition\n",
    "print(df[df['Salary'] > 32000])  # Rows where Salary > 32000"
   ]
  },
  {
   "cell_type": "code",
   "execution_count": 15,
   "id": "792ad465",
   "metadata": {},
   "outputs": [
    {
     "ename": "ValueError",
     "evalue": "Length of values (3) does not match length of index (1000)",
     "output_type": "error",
     "traceback": [
      "\u001b[1;31m---------------------------------------------------------------------------\u001b[0m",
      "\u001b[1;31mValueError\u001b[0m                                Traceback (most recent call last)",
      "Cell \u001b[1;32mIn[15], line 2\u001b[0m\n\u001b[0;32m      1\u001b[0m \u001b[38;5;66;03m# Add a new column\u001b[39;00m\n\u001b[1;32m----> 2\u001b[0m \u001b[43mdf\u001b[49m\u001b[43m[\u001b[49m\u001b[38;5;124;43m'\u001b[39;49m\u001b[38;5;124;43mAge\u001b[39;49m\u001b[38;5;124;43m'\u001b[39;49m\u001b[43m]\u001b[49m \u001b[38;5;241m=\u001b[39m [\u001b[38;5;241m25\u001b[39m, \u001b[38;5;241m35\u001b[39m, \u001b[38;5;241m42\u001b[39m]  \u001b[38;5;66;03m# Add a 'Age' column\u001b[39;00m\n\u001b[0;32m      3\u001b[0m \u001b[38;5;28mprint\u001b[39m(df)\n",
      "File \u001b[1;32m~\\anaconda3\\lib\\site-packages\\pandas\\core\\frame.py:3980\u001b[0m, in \u001b[0;36mDataFrame.__setitem__\u001b[1;34m(self, key, value)\u001b[0m\n\u001b[0;32m   3977\u001b[0m     \u001b[38;5;28mself\u001b[39m\u001b[38;5;241m.\u001b[39m_setitem_array([key], value)\n\u001b[0;32m   3978\u001b[0m \u001b[38;5;28;01melse\u001b[39;00m:\n\u001b[0;32m   3979\u001b[0m     \u001b[38;5;66;03m# set column\u001b[39;00m\n\u001b[1;32m-> 3980\u001b[0m     \u001b[38;5;28;43mself\u001b[39;49m\u001b[38;5;241;43m.\u001b[39;49m\u001b[43m_set_item\u001b[49m\u001b[43m(\u001b[49m\u001b[43mkey\u001b[49m\u001b[43m,\u001b[49m\u001b[43m \u001b[49m\u001b[43mvalue\u001b[49m\u001b[43m)\u001b[49m\n",
      "File \u001b[1;32m~\\anaconda3\\lib\\site-packages\\pandas\\core\\frame.py:4174\u001b[0m, in \u001b[0;36mDataFrame._set_item\u001b[1;34m(self, key, value)\u001b[0m\n\u001b[0;32m   4164\u001b[0m \u001b[38;5;28;01mdef\u001b[39;00m \u001b[38;5;21m_set_item\u001b[39m(\u001b[38;5;28mself\u001b[39m, key, value) \u001b[38;5;241m-\u001b[39m\u001b[38;5;241m>\u001b[39m \u001b[38;5;28;01mNone\u001b[39;00m:\n\u001b[0;32m   4165\u001b[0m \u001b[38;5;250m    \u001b[39m\u001b[38;5;124;03m\"\"\"\u001b[39;00m\n\u001b[0;32m   4166\u001b[0m \u001b[38;5;124;03m    Add series to DataFrame in specified column.\u001b[39;00m\n\u001b[0;32m   4167\u001b[0m \n\u001b[1;32m   (...)\u001b[0m\n\u001b[0;32m   4172\u001b[0m \u001b[38;5;124;03m    ensure homogeneity.\u001b[39;00m\n\u001b[0;32m   4173\u001b[0m \u001b[38;5;124;03m    \"\"\"\u001b[39;00m\n\u001b[1;32m-> 4174\u001b[0m     value \u001b[38;5;241m=\u001b[39m \u001b[38;5;28;43mself\u001b[39;49m\u001b[38;5;241;43m.\u001b[39;49m\u001b[43m_sanitize_column\u001b[49m\u001b[43m(\u001b[49m\u001b[43mvalue\u001b[49m\u001b[43m)\u001b[49m\n\u001b[0;32m   4176\u001b[0m     \u001b[38;5;28;01mif\u001b[39;00m (\n\u001b[0;32m   4177\u001b[0m         key \u001b[38;5;129;01min\u001b[39;00m \u001b[38;5;28mself\u001b[39m\u001b[38;5;241m.\u001b[39mcolumns\n\u001b[0;32m   4178\u001b[0m         \u001b[38;5;129;01mand\u001b[39;00m value\u001b[38;5;241m.\u001b[39mndim \u001b[38;5;241m==\u001b[39m \u001b[38;5;241m1\u001b[39m\n\u001b[0;32m   4179\u001b[0m         \u001b[38;5;129;01mand\u001b[39;00m \u001b[38;5;129;01mnot\u001b[39;00m is_extension_array_dtype(value)\n\u001b[0;32m   4180\u001b[0m     ):\n\u001b[0;32m   4181\u001b[0m         \u001b[38;5;66;03m# broadcast across multiple columns if necessary\u001b[39;00m\n\u001b[0;32m   4182\u001b[0m         \u001b[38;5;28;01mif\u001b[39;00m \u001b[38;5;129;01mnot\u001b[39;00m \u001b[38;5;28mself\u001b[39m\u001b[38;5;241m.\u001b[39mcolumns\u001b[38;5;241m.\u001b[39mis_unique \u001b[38;5;129;01mor\u001b[39;00m \u001b[38;5;28misinstance\u001b[39m(\u001b[38;5;28mself\u001b[39m\u001b[38;5;241m.\u001b[39mcolumns, MultiIndex):\n",
      "File \u001b[1;32m~\\anaconda3\\lib\\site-packages\\pandas\\core\\frame.py:4915\u001b[0m, in \u001b[0;36mDataFrame._sanitize_column\u001b[1;34m(self, value)\u001b[0m\n\u001b[0;32m   4912\u001b[0m     \u001b[38;5;28;01mreturn\u001b[39;00m _reindex_for_setitem(Series(value), \u001b[38;5;28mself\u001b[39m\u001b[38;5;241m.\u001b[39mindex)\n\u001b[0;32m   4914\u001b[0m \u001b[38;5;28;01mif\u001b[39;00m is_list_like(value):\n\u001b[1;32m-> 4915\u001b[0m     \u001b[43mcom\u001b[49m\u001b[38;5;241;43m.\u001b[39;49m\u001b[43mrequire_length_match\u001b[49m\u001b[43m(\u001b[49m\u001b[43mvalue\u001b[49m\u001b[43m,\u001b[49m\u001b[43m \u001b[49m\u001b[38;5;28;43mself\u001b[39;49m\u001b[38;5;241;43m.\u001b[39;49m\u001b[43mindex\u001b[49m\u001b[43m)\u001b[49m\n\u001b[0;32m   4916\u001b[0m \u001b[38;5;28;01mreturn\u001b[39;00m sanitize_array(value, \u001b[38;5;28mself\u001b[39m\u001b[38;5;241m.\u001b[39mindex, copy\u001b[38;5;241m=\u001b[39m\u001b[38;5;28;01mTrue\u001b[39;00m, allow_2d\u001b[38;5;241m=\u001b[39m\u001b[38;5;28;01mTrue\u001b[39;00m)\n",
      "File \u001b[1;32m~\\anaconda3\\lib\\site-packages\\pandas\\core\\common.py:571\u001b[0m, in \u001b[0;36mrequire_length_match\u001b[1;34m(data, index)\u001b[0m\n\u001b[0;32m    567\u001b[0m \u001b[38;5;250m\u001b[39m\u001b[38;5;124;03m\"\"\"\u001b[39;00m\n\u001b[0;32m    568\u001b[0m \u001b[38;5;124;03mCheck the length of data matches the length of the index.\u001b[39;00m\n\u001b[0;32m    569\u001b[0m \u001b[38;5;124;03m\"\"\"\u001b[39;00m\n\u001b[0;32m    570\u001b[0m \u001b[38;5;28;01mif\u001b[39;00m \u001b[38;5;28mlen\u001b[39m(data) \u001b[38;5;241m!=\u001b[39m \u001b[38;5;28mlen\u001b[39m(index):\n\u001b[1;32m--> 571\u001b[0m     \u001b[38;5;28;01mraise\u001b[39;00m \u001b[38;5;167;01mValueError\u001b[39;00m(\n\u001b[0;32m    572\u001b[0m         \u001b[38;5;124m\"\u001b[39m\u001b[38;5;124mLength of values \u001b[39m\u001b[38;5;124m\"\u001b[39m\n\u001b[0;32m    573\u001b[0m         \u001b[38;5;124mf\u001b[39m\u001b[38;5;124m\"\u001b[39m\u001b[38;5;124m(\u001b[39m\u001b[38;5;132;01m{\u001b[39;00m\u001b[38;5;28mlen\u001b[39m(data)\u001b[38;5;132;01m}\u001b[39;00m\u001b[38;5;124m) \u001b[39m\u001b[38;5;124m\"\u001b[39m\n\u001b[0;32m    574\u001b[0m         \u001b[38;5;124m\"\u001b[39m\u001b[38;5;124mdoes not match length of index \u001b[39m\u001b[38;5;124m\"\u001b[39m\n\u001b[0;32m    575\u001b[0m         \u001b[38;5;124mf\u001b[39m\u001b[38;5;124m\"\u001b[39m\u001b[38;5;124m(\u001b[39m\u001b[38;5;132;01m{\u001b[39;00m\u001b[38;5;28mlen\u001b[39m(index)\u001b[38;5;132;01m}\u001b[39;00m\u001b[38;5;124m)\u001b[39m\u001b[38;5;124m\"\u001b[39m\n\u001b[0;32m    576\u001b[0m     )\n",
      "\u001b[1;31mValueError\u001b[0m: Length of values (3) does not match length of index (1000)"
     ]
    }
   ],
   "source": [
    "# Add a new column\n",
    "df['Age'] = [25, 35, 42]  # Add a 'Age' column\n",
    "print(df)\n",
    "\n"
   ]
  },
  {
   "cell_type": "code",
   "execution_count": null,
   "id": "3dc0813e",
   "metadata": {},
   "outputs": [],
   "source": [
    "# Remove a column\n",
    "df.drop('Salary', axis=1, inplace=True)  # Remove the 'Salary' column\n",
    "print(df)"
   ]
  },
  {
   "cell_type": "code",
   "execution_count": 16,
   "id": "1343c64d",
   "metadata": {},
   "outputs": [
    {
     "name": "stdout",
     "output_type": "stream",
     "text": [
      "     First Name  Gender  Start Date  Last Login Time  Salary  Bonus %  \\\n",
      "0         False   False       False            False   False    False   \n",
      "1         False   False       False            False   False    False   \n",
      "2         False   False       False            False   False    False   \n",
      "3         False   False       False            False   False    False   \n",
      "4         False   False       False            False   False    False   \n",
      "..          ...     ...         ...              ...     ...      ...   \n",
      "995       False    True       False            False   False    False   \n",
      "996       False   False       False            False   False    False   \n",
      "997       False   False       False            False   False    False   \n",
      "998       False   False       False            False   False    False   \n",
      "999       False   False       False            False   False    False   \n",
      "\n",
      "     Senior Management   Team  \n",
      "0                False  False  \n",
      "1                False   True  \n",
      "2                False  False  \n",
      "3                False  False  \n",
      "4                False  False  \n",
      "..                 ...    ...  \n",
      "995              False  False  \n",
      "996              False  False  \n",
      "997              False  False  \n",
      "998              False  False  \n",
      "999              False  False  \n",
      "\n",
      "[1000 rows x 8 columns]\n"
     ]
    }
   ],
   "source": [
    "# Check for missing values\n",
    "print(df.isnull())  # Returns a DataFrame of True/False for missing values\n",
    "\n",
    "# Drop rows with missing values\n",
    "df.dropna(inplace=True)\n",
    "\n",
    "# Fill missing values with a specific value\n",
    "df.fillna(0, inplace=True)  # Replace NaN with 0"
   ]
  },
  {
   "cell_type": "code",
   "execution_count": 17,
   "id": "a78de131",
   "metadata": {},
   "outputs": [
    {
     "name": "stdout",
     "output_type": "stream",
     "text": [
      "     First Name  Gender  Start Date  Last Login Time  Salary  Bonus %  \\\n",
      "0         False   False       False            False   False    False   \n",
      "2         False   False       False            False   False    False   \n",
      "3         False   False       False            False   False    False   \n",
      "4         False   False       False            False   False    False   \n",
      "5         False   False       False            False   False    False   \n",
      "..          ...     ...         ...              ...     ...      ...   \n",
      "994       False   False       False            False   False    False   \n",
      "996       False   False       False            False   False    False   \n",
      "997       False   False       False            False   False    False   \n",
      "998       False   False       False            False   False    False   \n",
      "999       False   False       False            False   False    False   \n",
      "\n",
      "     Senior Management   Team  \n",
      "0                False  False  \n",
      "2                False  False  \n",
      "3                False  False  \n",
      "4                False  False  \n",
      "5                False  False  \n",
      "..                 ...    ...  \n",
      "994              False  False  \n",
      "996              False  False  \n",
      "997              False  False  \n",
      "998              False  False  \n",
      "999              False  False  \n",
      "\n",
      "[764 rows x 8 columns]\n"
     ]
    }
   ],
   "source": [
    "# Check for missing values\n",
    "print(df.isnull())  # Returns a DataFrame of True/False for missing values"
   ]
  },
  {
   "cell_type": "code",
   "execution_count": 18,
   "id": "e5edf7bc",
   "metadata": {},
   "outputs": [
    {
     "name": "stdout",
     "output_type": "stream",
     "text": [
      "    First Name  Gender Start Date Last Login Time  Salary  Bonus %  \\\n",
      "576    Michael    Male  7/30/1993         5:35 PM   35013   14.879   \n",
      "238      Kevin    Male  3/25/1982         7:31 AM   35061    5.128   \n",
      "82      Steven    Male  3/30/1980         9:20 PM   35095    8.379   \n",
      "63     Matthew    Male   1/2/2013        10:33 PM   35203   18.040   \n",
      "650    Cynthia  Female   7/5/1986         1:24 AM   35381   11.749   \n",
      "..         ...     ...        ...             ...     ...      ...   \n",
      "793     Andrea  Female  7/22/1999         9:25 AM  149105   13.707   \n",
      "160      Kathy  Female  3/18/2000         7:26 PM  149563   16.991   \n",
      "828    Cynthia  Female  7/12/2006         8:55 AM  149684    7.864   \n",
      "429       Rose  Female  5/28/2015         8:40 AM  149903    5.630   \n",
      "644  Katherine  Female  8/13/1996        12:21 AM  149908   18.912   \n",
      "\n",
      "    Senior Management             Team  \n",
      "576             False          Product  \n",
      "238             False            Legal  \n",
      "82               True  Client Services  \n",
      "63              False  Human Resources  \n",
      "650             False          Finance  \n",
      "..                ...              ...  \n",
      "793              True     Distribution  \n",
      "160              True          Finance  \n",
      "828             False          Product  \n",
      "429             False  Human Resources  \n",
      "644             False          Finance  \n",
      "\n",
      "[764 rows x 8 columns]\n"
     ]
    }
   ],
   "source": [
    "# Sort by 'Salary' in ascending order\n",
    "sorted_df = df.sort_values(by='Salary')\n",
    "print(sorted_df)\n",
    "\n"
   ]
  },
  {
   "cell_type": "code",
   "execution_count": 19,
   "id": "d1237edb",
   "metadata": {},
   "outputs": [
    {
     "name": "stdout",
     "output_type": "stream",
     "text": [
      "    First Name  Gender Start Date Last Login Time  Salary  Bonus %  \\\n",
      "644  Katherine  Female  8/13/1996        12:21 AM  149908   18.912   \n",
      "429       Rose  Female  5/28/2015         8:40 AM  149903    5.630   \n",
      "828    Cynthia  Female  7/12/2006         8:55 AM  149684    7.864   \n",
      "160      Kathy  Female  3/18/2000         7:26 PM  149563   16.991   \n",
      "793     Andrea  Female  7/22/1999         9:25 AM  149105   13.707   \n",
      "..         ...     ...        ...             ...     ...      ...   \n",
      "650    Cynthia  Female   7/5/1986         1:24 AM   35381   11.749   \n",
      "63     Matthew    Male   1/2/2013        10:33 PM   35203   18.040   \n",
      "82      Steven    Male  3/30/1980         9:20 PM   35095    8.379   \n",
      "238      Kevin    Male  3/25/1982         7:31 AM   35061    5.128   \n",
      "576    Michael    Male  7/30/1993         5:35 PM   35013   14.879   \n",
      "\n",
      "    Senior Management             Team  \n",
      "644             False          Finance  \n",
      "429             False  Human Resources  \n",
      "828             False          Product  \n",
      "160              True          Finance  \n",
      "793              True     Distribution  \n",
      "..                ...              ...  \n",
      "650             False          Finance  \n",
      "63              False  Human Resources  \n",
      "82               True  Client Services  \n",
      "238             False            Legal  \n",
      "576             False          Product  \n",
      "\n",
      "[764 rows x 8 columns]\n"
     ]
    }
   ],
   "source": [
    "# Sort by 'Salary  ' in descending order\n",
    "sorted_df = df.sort_values(by='Salary', ascending=False)\n",
    "print(sorted_df)"
   ]
  },
  {
   "cell_type": "code",
   "execution_count": 24,
   "id": "40b20773",
   "metadata": {},
   "outputs": [],
   "source": [
    "# Save to a CSV file\n",
    "df.to_csv('output.csv', index=False)  # 'index=False' avoids saving row numbers\n",
    "\n",
    "# Save to an Excel file\n",
    "df.to_excel('output.xlsx', index=False)"
   ]
  },
  {
   "cell_type": "code",
   "execution_count": 23,
   "id": "0505f88d",
   "metadata": {},
   "outputs": [
    {
     "name": "stdout",
     "output_type": "stream",
     "text": [
      "Current Working Directory: F:\\Projects\\HUT\n"
     ]
    }
   ],
   "source": [
    "import os\n",
    "\n",
    "# Get the current working directory\n",
    "current_directory = os.getcwd()\n",
    "print(\"Current Working Directory:\", current_directory)"
   ]
  },
  {
   "cell_type": "code",
   "execution_count": 22,
   "id": "f35862e2",
   "metadata": {},
   "outputs": [
    {
     "name": "stdout",
     "output_type": "stream",
     "text": [
      "New Working Directory: F:\\Projects\\HUT\n"
     ]
    }
   ],
   "source": [
    "import os\n",
    "\n",
    "# Change the current working directory\n",
    "new_directory = \"F:\\Projects\\HUT\"  # Replace with your desired path\n",
    "os.chdir(new_directory)\n",
    "\n",
    "# Verify the change\n",
    "print(\"New Working Directory:\", os.getcwd())"
   ]
  },
  {
   "cell_type": "code",
   "execution_count": null,
   "id": "da86776a",
   "metadata": {},
   "outputs": [],
   "source": []
  }
 ],
 "metadata": {
  "kernelspec": {
   "display_name": "Python 3 (ipykernel)",
   "language": "python",
   "name": "python3"
  },
  "language_info": {
   "codemirror_mode": {
    "name": "ipython",
    "version": 3
   },
   "file_extension": ".py",
   "mimetype": "text/x-python",
   "name": "python",
   "nbconvert_exporter": "python",
   "pygments_lexer": "ipython3",
   "version": "3.10.9"
  }
 },
 "nbformat": 4,
 "nbformat_minor": 5
}
