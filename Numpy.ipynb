{
 "cells": [
  {
   "cell_type": "code",
   "execution_count": null,
   "id": "cd4a7d49",
   "metadata": {},
   "outputs": [],
   "source": [
    "# Import NumPy with the standard alias 'np'\n",
    "import numpy as np\n",
    "\n",
    "# ==============================================\n",
    "# 1. Creating NumPy Arrays\n",
    "# ==============================================\n",
    "\n",
    "# Create a 1D array from a Python list\n",
    "arr_1d = np.array([1, 2, 3, 4, 5])\n",
    "print(\"1D Array:\\n\", arr_1d)\n",
    "\n",
    "# Create a 2D array (matrix) from a nested list\n",
    "arr_2d = np.array([[1, 2, 3], [4, 5, 6]])\n",
    "print(\"\\n2D Array:\\n\", arr_2d)\n",
    "\n",
    "# Create an array of zeros with shape (3, 3)\n",
    "zeros_arr = np.zeros((3, 3))\n",
    "print(\"\\nArray of Zeros:\\n\", zeros_arr)\n",
    "\n",
    "# Create an array of ones with shape (2, 4)\n",
    "ones_arr = np.ones((2, 4))\n",
    "print(\"\\nArray of Ones:\\n\", ones_arr)\n",
    "\n",
    "# Create a 3x3 identity matrix\n",
    "identity_matrix = np.eye(3)\n",
    "print(\"\\nIdentity Matrix:\\n\", identity_matrix)\n",
    "\n",
    "# Create an array with a range of values (start, stop, step)\n",
    "range_arr = np.arange(0, 10, 2)\n",
    "print(\"\\nRange Array:\\n\", range_arr)\n"
   ]
  },
  {
   "cell_type": "code",
   "execution_count": null,
   "id": "83d3f8db",
   "metadata": {},
   "outputs": [],
   "source": [
    "# ==============================================\n",
    "# 2. Array Attributes\n",
    "# ==============================================\n",
    "\n",
    "# Check the shape (dimensions) of the array\n",
    "print(\"\\nShape of arr_2d:\", arr_2d.shape)\n",
    "\n",
    "# Check the total number of elements in the array\n",
    "print(\"Size of arr_2d:\", arr_2d.size)\n",
    "\n",
    "# Check the data type of the array elements\n",
    "print(\"Data Type of arr_2d:\", arr_2d.dtype)\n",
    "\n",
    "# Check the number of dimensions (axes) of the array\n",
    "print(\"Number of Dimensions of arr_2d:\", arr_2d.ndim)\n"
   ]
  },
  {
   "cell_type": "code",
   "execution_count": null,
   "id": "17da546e",
   "metadata": {},
   "outputs": [],
   "source": [
    "# ==============================================\n",
    "# 3. Array Operations\n",
    "# ==============================================\n",
    "\n",
    "# Element-wise addition, subtraction, multiplication, and division\n",
    "a = np.array([1, 2, 3])\n",
    "b = np.array([4, 5, 6])\n",
    "print(\"\\nElement-wise Addition:\", a + b)\n",
    "print(\"Element-wise Subtraction:\", a - b)\n",
    "print(\"Element-wise Multiplication:\", a * b)\n",
    "print(\"Element-wise Division:\", a / b)\n",
    "\n",
    "# Dot product of two arrays\n",
    "dot_product = np.dot(a, b)\n",
    "print(\"\\nDot Product of a and b:\", dot_product)\n",
    "\n",
    "# Matrix multiplication\n",
    "mat_a = np.array([[1, 2], [3, 4]])\n",
    "mat_b = np.array([[5, 6], [7, 8]])\n",
    "result = np.matmul(mat_a, mat_b)\n",
    "print(\"\\nMatrix Multiplication:\\n\", result)\n"
   ]
  },
  {
   "cell_type": "code",
   "execution_count": null,
   "id": "81eb1e31",
   "metadata": {},
   "outputs": [],
   "source": [
    "# ==============================================\n",
    "# 4. Reshaping Arrays\n",
    "# ==============================================\n",
    "\n",
    "# Reshape a 1D array into a 2D array\n",
    "arr = np.arange(1, 10)  # 1D array with values 1 to 9\n",
    "reshaped_arr = arr.reshape(3, 3)  # Reshape to 3x3\n",
    "print(\"\\nReshaped Array:\\n\", reshaped_arr)\n"
   ]
  },
  {
   "cell_type": "code",
   "execution_count": null,
   "id": "fb438d60",
   "metadata": {},
   "outputs": [],
   "source": [
    "# ==============================================\n",
    "# 5. Indexing and Slicing\n",
    "# ==============================================\n",
    "\n",
    "# Indexing and slicing in a 1D array\n",
    "arr_1d = np.array([10, 20, 30, 40, 50])\n",
    "print(\"\\nFirst Element of arr_1d:\", arr_1d[0])\n",
    "print(\"Last Element of arr_1d:\", arr_1d[-1])\n",
    "print(\"Sliced Array (1:4):\", arr_1d[1:4])  # Elements from index 1 to 3\n",
    "\n",
    "# Indexing and slicing in a 2D array\n",
    "arr_2d = np.array([[1, 2, 3], [4, 5, 6], [7, 8, 9]])\n",
    "print(\"\\nElement at (1, 2) in arr_2d:\", arr_2d[1, 2])  # Row 1, Column 2\n",
    "print(\"First Row of arr_2d:\", arr_2d[0, :])  # All columns of the first row\n",
    "print(\"Second Column of arr_2d:\", arr_2d[:, 1])  # All rows of the second column\n"
   ]
  },
  {
   "cell_type": "code",
   "execution_count": null,
   "id": "066e61cd",
   "metadata": {},
   "outputs": [],
   "source": [
    "# ==============================================\n",
    "# 6. Aggregations\n",
    "# ==============================================\n",
    "\n",
    "# Compute statistics on an array\n",
    "arr = np.array([1, 2, 3, 4, 5])\n",
    "print(\"\\nSum of arr:\", np.sum(arr))\n",
    "print(\"Mean of arr:\", np.mean(arr))\n",
    "print(\"Minimum of arr:\", np.min(arr))\n",
    "print(\"Maximum of arr:\", np.max(arr))\n",
    "print(\"Standard Deviation of arr:\", np.std(arr))"
   ]
  },
  {
   "cell_type": "code",
   "execution_count": null,
   "id": "d1614541",
   "metadata": {},
   "outputs": [],
   "source": [
    "# ==============================================\n",
    "# 7. Broadcasting\n",
    "# ==============================================\n",
    "\n",
    "# Broadcasting allows operations on arrays of different shapes\n",
    "a = np.array([1, 2, 3])\n",
    "b = 2  # Scalar\n",
    "print(\"\\nBroadcasted Addition (a + b):\", a + b)\n"
   ]
  },
  {
   "cell_type": "code",
   "execution_count": null,
   "id": "566ac1a9",
   "metadata": {},
   "outputs": [],
   "source": [
    "# ==============================================\n",
    "# 8. Saving and Loading Arrays\n",
    "# ==============================================\n",
    "\n",
    "# Save an array to a file\n",
    "np.save('my_array.npy', arr)\n",
    "\n",
    "# Load the array from the file\n",
    "loaded_arr = np.load('my_array.npy')\n",
    "print(\"\\nLoaded Array from File:\\n\", loaded_arr)\n"
   ]
  },
  {
   "cell_type": "code",
   "execution_count": null,
   "id": "dd9ead2d",
   "metadata": {},
   "outputs": [],
   "source": [
    "# ==============================================\n",
    "# 9. Practice Exercise\n",
    "# ==============================================\n",
    "\n",
    "# Create a 2D array of shape (4, 4) filled with random numbers\n",
    "random_arr = np.random.rand(4, 4)\n",
    "print(\"\\nRandom 4x4 Array:\\n\", random_arr)\n",
    "\n",
    "# Compute the mean of each row\n",
    "row_means = np.mean(random_arr, axis=1)\n",
    "print(\"\\nMean of Each Row:\\n\", row_means)\n",
    "\n",
    "# Reshape the array to (2, 8)\n",
    "reshaped_random_arr = random_arr.reshape(2, 8)\n",
    "print(\"\\nReshaped Random Array (2x8):\\n\", reshaped_random_arr)\n",
    "\n",
    "# Perform matrix multiplication with another 2D array\n",
    "mat_c = np.random.rand(4, 4)\n",
    "mat_d = np.random.rand(4, 4)\n",
    "matmul_result = np.matmul(mat_c, mat_d)\n",
    "print(\"\\nMatrix Multiplication Result:\\n\", matmul_result)"
   ]
  }
 ],
 "metadata": {
  "kernelspec": {
   "display_name": "Python 3 (ipykernel)",
   "language": "python",
   "name": "python3"
  },
  "language_info": {
   "codemirror_mode": {
    "name": "ipython",
    "version": 3
   },
   "file_extension": ".py",
   "mimetype": "text/x-python",
   "name": "python",
   "nbconvert_exporter": "python",
   "pygments_lexer": "ipython3",
   "version": "3.10.9"
  }
 },
 "nbformat": 4,
 "nbformat_minor": 5
}
